{
 "cells": [
  {
   "cell_type": "markdown",
   "id": "7dcca6e8-3438-4ffc-adcb-32a64924b40e",
   "metadata": {},
   "source": [
    "# Question 23:\n",
    "Develop a recursive function tough() that takes two nonnegative integer arguments and outputs a pattern as shown in the image. \n",
    "Hint: The first argument represents the indentation of the pattern, where the second argument -- always a pattern of 2 indicates \n",
    "the number *s in the longest line of *s in the pattern\n",
    "![image.png](attachment:36ef6236-1c70-4a08-9a45-e0aa2ffa89a6.png)![image.png](attachment:44ceb94f-d6b6-4c32-8c3d-d41959d81bc0.png)"
   ]
  },
  {
   "cell_type": "code",
   "execution_count": 105,
   "id": "36884f4a-6a7b-43f2-ac20-447d130b6787",
   "metadata": {},
   "outputs": [],
   "source": [
    "# Answer\n",
    "f = tough\n",
    "def tough(indent, stars):\n",
    "    if stars == 0:\n",
    "        return \"\"\n",
    "\n",
    "    result = \"\"\n",
    "\n",
    "    # Print the upper part of the pattern\n",
    "    result += \" \" * indent + \"\" * stars + \"\\n*\"\n",
    "    result += tough(indent + 1, stars - 1)\n",
    "\n",
    "    # Print the lower part of the pattern (only if stars > 1)\n",
    "    if stars > 1:\n",
    "        result += \" *\" * indent + \"*\"  * stars + \"\\n*\"\n",
    "\n",
    "    return result"
   ]
  },
  {
   "cell_type": "code",
   "execution_count": 96,
   "id": "34df03bb-606f-42ff-8a69-002099ecbdab",
   "metadata": {},
   "outputs": [
    {
     "name": "stdout",
     "output_type": "stream",
     "text": [
      "\n"
     ]
    }
   ],
   "source": [
    "print(f(0,0))\n"
   ]
  },
  {
   "cell_type": "code",
   "execution_count": 106,
   "id": "99e84e68-3458-4f4c-bc90-17c49dc50b22",
   "metadata": {},
   "outputs": [
    {
     "name": "stdout",
     "output_type": "stream",
     "text": [
      "\n",
      "*\n"
     ]
    }
   ],
   "source": [
    "print(f(0,1))"
   ]
  },
  {
   "cell_type": "code",
   "execution_count": 107,
   "id": "eec065fe-2e62-4a9a-b3a2-182d24d587ff",
   "metadata": {},
   "outputs": [
    {
     "name": "stdout",
     "output_type": "stream",
     "text": [
      "\n",
      "* \n",
      "***\n",
      "*\n"
     ]
    }
   ],
   "source": [
    "print(f(0,2))"
   ]
  },
  {
   "cell_type": "code",
   "execution_count": 108,
   "id": "e2d30350-9ca6-40db-aad5-e2cae36e6d6b",
   "metadata": {},
   "outputs": [
    {
     "name": "stdout",
     "output_type": "stream",
     "text": [
      "\n",
      "* \n",
      "*  \n",
      "*   \n",
      "* * ***\n",
      "* ****\n",
      "*****\n",
      "*\n"
     ]
    }
   ],
   "source": [
    "print(f(0,4))"
   ]
  },
  {
   "cell_type": "code",
   "execution_count": null,
   "id": "421964fe-24a8-41c8-9872-913e6bc9340a",
   "metadata": {},
   "outputs": [],
   "source": []
  }
 ],
 "metadata": {
  "kernelspec": {
   "display_name": "Python 3 (ipykernel)",
   "language": "python",
   "name": "python3"
  },
  "language_info": {
   "codemirror_mode": {
    "name": "ipython",
    "version": 3
   },
   "file_extension": ".py",
   "mimetype": "text/x-python",
   "name": "python",
   "nbconvert_exporter": "python",
   "pygments_lexer": "ipython3",
   "version": "3.11.7"
  }
 },
 "nbformat": 4,
 "nbformat_minor": 5
}
